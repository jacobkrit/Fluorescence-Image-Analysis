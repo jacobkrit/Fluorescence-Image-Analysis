{
 "cells": [
  {
   "cell_type": "markdown",
   "id": "bf1656e4-8dad-4967-a73c-421f485086f1",
   "metadata": {},
   "source": [
    "# Following Code removes background from Image with OPEN CV"
   ]
  },
  {
   "cell_type": "code",
   "execution_count": 11,
   "id": "599d3a99-b4e1-49c6-b979-5ded7b163202",
   "metadata": {},
   "outputs": [],
   "source": [
    "import numpy as np\n",
    "import cv2 as cv\n",
    "from matplotlib import pyplot as plt\n",
    "import sys\n",
    "from  PIL  import Image"
   ]
  },
  {
   "cell_type": "code",
   "execution_count": 12,
   "id": "630972b4-7289-410b-854e-b82f55af00d9",
   "metadata": {},
   "outputs": [
    {
     "name": "stdout",
     "output_type": "stream",
     "text": [
      "(2868, 3129, 4)\n",
      "(1147, 1251, 4)\n"
     ]
    }
   ],
   "source": [
    "img = cv.imread(\"D:/Ultrasound/Slices-Images/2019_03_13-M01-1.png\", cv.IMREAD_UNCHANGED)\n",
    "original = img.copy()\n",
    "print(original.shape)\n",
    "\n",
    "# resize image\n",
    "scale_percent = 40 # percent of original size\n",
    "width = int(original.shape[1] * scale_percent / 100)\n",
    "height = int(original.shape[0] * scale_percent / 100)\n",
    "dim = (width, height)\n",
    "original_resized = cv.resize(original, dim, interpolation = cv.INTER_AREA)\n",
    "\n",
    "print(original_resized.shape)\n",
    "cv.imshow('resized image',original_resized)\n",
    "cv.waitKey(0) # waits until a key is pressed\n",
    "cv.destroyAllWindows() # destroys the window showing image"
   ]
  },
  {
   "cell_type": "code",
   "execution_count": 13,
   "id": "4db07ca3-dffc-4f6d-bdae-c70f51a46fc9",
   "metadata": {},
   "outputs": [
    {
     "name": "stdout",
     "output_type": "stream",
     "text": [
      "(1147, 1251)\n"
     ]
    }
   ],
   "source": [
    "edges_Gaussian = cv.GaussianBlur(original_resized, (0, 0), 3)\n",
    "# https://www.tutorialkart.com/opencv/python/opencv-python-gaussian-image-smoothing/\n",
    "#print(edges_Gaussian.shape)\n",
    "#cv.imshow('resized image',edges_Gaussian)\n",
    "#cv.waitKey(0) # waits until a key is pressed\n",
    "#cv.destroyAllWindows() # destroys the window showing image\n",
    "\n",
    "edges_Gaussian_Gray = cv.cvtColor(edges_Gaussian, cv.COLOR_BGR2GRAY)\n",
    "# https://www.geeksforgeeks.org/python-opencv-cv2-cvtcolor-method/#:~:text=cvtColor()%20method%20is%20used,color%20space%20conversion%20codes%20below.\n",
    "print(edges_Gaussian_Gray.shape)\n",
    "cv.imshow('resized image',edges_Gaussian_Gray)\n",
    "cv.waitKey(0) # waits until a key is pressed\n",
    "cv.destroyAllWindows() # destroys the window showing image"
   ]
  },
  {
   "cell_type": "code",
   "execution_count": 36,
   "id": "1d4ca22e-b8eb-4208-acc2-9c686860332a",
   "metadata": {},
   "outputs": [
    {
     "name": "stdout",
     "output_type": "stream",
     "text": [
      "(1147, 1251)\n"
     ]
    }
   ],
   "source": [
    "edges = cv.Canny(edges_Gaussian, 7, 12)\n",
    "# https://docs.opencv.org/4.x/da/d22/tutorial_py_canny.html\n",
    "#print(edges.shape)\n",
    "#cv.imshow('resized image',edges)\n",
    "#cv.waitKey(0) # waits until a key is pressed\n",
    "#cv.destroyAllWindows() # destroys the window showing image\n",
    "\n",
    "_, thresh = cv.threshold(edges, 0, 255, cv.THRESH_BINARY  + cv.THRESH_OTSU) # https://docs.opencv.org/4.x/d7/d4d/tutorial_py_thresholding.html\n",
    "kernel = cv.getStructuringElement(cv.MORPH_ELLIPSE, (1, 1))\n",
    "mask = cv.morphologyEx(thresh, cv.MORPH_CLOSE, kernel, iterations=1)\n",
    "print(mask.shape)\n",
    "cv.imshow('resized image',mask)\n",
    "cv.waitKey(0) # waits until a key is pressed\n",
    "cv.destroyAllWindows() # destroys the window showing image"
   ]
  },
  {
   "cell_type": "code",
   "execution_count": 37,
   "id": "16f35751-4132-494d-98b7-738c96f6ae25",
   "metadata": {},
   "outputs": [
    {
     "name": "stdout",
     "output_type": "stream",
     "text": [
      "(1147, 1251)\n"
     ]
    }
   ],
   "source": [
    "data = mask.tolist()\n",
    "sys.setrecursionlimit(10**8)\n",
    "for i in  range(len(data)):\n",
    "    for j in  range(len(data[i])):\n",
    "        if data[i][j] !=  255:\n",
    "            data[i][j] =  -1\n",
    "        else:\n",
    "            break\n",
    "    for j in  range(len(data[i])-1, -1, -1):\n",
    "        if data[i][j] !=  255:\n",
    "            data[i][j] =  -1\n",
    "        else:\n",
    "            break\n",
    "image = np.array(data)\n",
    "image[image !=  -1] =  255\n",
    "image[image ==  -1] =  0\n",
    "\n",
    "mask = np.array(image, np.uint8)\n",
    "\n",
    "print(mask.shape)\n",
    "cv.imshow('resized image',mask)\n",
    "cv.waitKey(0) # waits until a key is pressed\n",
    "cv.destroyAllWindows() # destroys the window showing image"
   ]
  },
  {
   "cell_type": "code",
   "execution_count": 38,
   "id": "bc74fdc8-9c39-4716-b6d7-e5adfe5491ab",
   "metadata": {},
   "outputs": [
    {
     "name": "stdout",
     "output_type": "stream",
     "text": [
      "(1147, 1251, 4)\n"
     ]
    }
   ],
   "source": [
    "result = cv.bitwise_and(original_resized, original_resized, mask=mask)\n",
    "result[mask ==  0] =  0\n",
    "print(result.shape)\n",
    "cv.imshow('resized image',result)\n",
    "cv.waitKey(0) # waits until a key is pressed\n",
    "cv.destroyAllWindows() # destroys the window showing image"
   ]
  },
  {
   "cell_type": "code",
   "execution_count": 39,
   "id": "9c3b92b4-b9ab-4992-81fd-f48a4a9178a0",
   "metadata": {},
   "outputs": [],
   "source": [
    "cv.imwrite('Slices/bg.png', result)\n",
    "\n",
    "img = Image.open('Slices/bg.png')\n",
    "img.convert(\"RGBA\")\n",
    "datas = img.getdata()\n",
    "\n",
    "newData = []\n",
    "for item in datas:\n",
    "    if item[0] ==  0  and item[1] ==  0  and item[2] ==  0:\n",
    "        newData.append((0, 0, 0, 255))\n",
    "    else:\n",
    "        newData.append(item)\n",
    "\n",
    "img.putdata(newData)\n",
    "img.save(\"Slices/img.png\", \"PNG\")"
   ]
  },
  {
   "cell_type": "code",
   "execution_count": null,
   "id": "faa23ebc-1ada-4d27-a9a8-7728823ac76d",
   "metadata": {},
   "outputs": [],
   "source": []
  }
 ],
 "metadata": {
  "kernelspec": {
   "display_name": "Python 3 (ipykernel)",
   "language": "python",
   "name": "python3"
  },
  "language_info": {
   "codemirror_mode": {
    "name": "ipython",
    "version": 3
   },
   "file_extension": ".py",
   "mimetype": "text/x-python",
   "name": "python",
   "nbconvert_exporter": "python",
   "pygments_lexer": "ipython3",
   "version": "3.9.12"
  }
 },
 "nbformat": 4,
 "nbformat_minor": 5
}
